{
 "cells": [
  {
   "cell_type": "markdown",
   "id": "9c03f68b",
   "metadata": {},
   "source": [
    "## Importations des librairies"
   ]
  },
  {
   "cell_type": "code",
   "execution_count": 1,
   "id": "77a1a49b",
   "metadata": {},
   "outputs": [],
   "source": [
    "import pandas as pd\n",
    "import numpy as np\n",
    "import datetime\n",
    "import re"
   ]
  },
  {
   "cell_type": "markdown",
   "id": "ef14e4e1",
   "metadata": {},
   "source": [
    "## Chargement des données"
   ]
  },
  {
   "cell_type": "code",
   "execution_count": 2,
   "id": "07240024",
   "metadata": {},
   "outputs": [],
   "source": [
    "df_customers = pd.read_csv('./dataset_bookstore/customers.csv')"
   ]
  },
  {
   "cell_type": "code",
   "execution_count": 3,
   "id": "dca4ead7",
   "metadata": {},
   "outputs": [],
   "source": [
    "df_products = pd.read_csv('./dataset_bookstore/products.csv')"
   ]
  },
  {
   "cell_type": "code",
   "execution_count": 4,
   "id": "34c3fcf2",
   "metadata": {},
   "outputs": [],
   "source": [
    "df_transactions = pd.read_csv('./dataset_bookstore/transactions.csv', parse_dates=[2])"
   ]
  },
  {
   "cell_type": "markdown",
   "id": "fd799f1c",
   "metadata": {},
   "source": [
    "## Affichage d'un échantillon de chacun d'eux"
   ]
  },
  {
   "cell_type": "code",
   "execution_count": 5,
   "id": "f6f7fd25",
   "metadata": {},
   "outputs": [
    {
     "data": {
      "text/html": [
       "<div>\n",
       "<style scoped>\n",
       "    .dataframe tbody tr th:only-of-type {\n",
       "        vertical-align: middle;\n",
       "    }\n",
       "\n",
       "    .dataframe tbody tr th {\n",
       "        vertical-align: top;\n",
       "    }\n",
       "\n",
       "    .dataframe thead th {\n",
       "        text-align: right;\n",
       "    }\n",
       "</style>\n",
       "<table border=\"1\" class=\"dataframe\">\n",
       "  <thead>\n",
       "    <tr style=\"text-align: right;\">\n",
       "      <th></th>\n",
       "      <th>client_id</th>\n",
       "      <th>sex</th>\n",
       "      <th>birth</th>\n",
       "    </tr>\n",
       "  </thead>\n",
       "  <tbody>\n",
       "    <tr>\n",
       "      <th>0</th>\n",
       "      <td>c_4410</td>\n",
       "      <td>f</td>\n",
       "      <td>1967</td>\n",
       "    </tr>\n",
       "    <tr>\n",
       "      <th>1</th>\n",
       "      <td>c_7839</td>\n",
       "      <td>f</td>\n",
       "      <td>1975</td>\n",
       "    </tr>\n",
       "    <tr>\n",
       "      <th>2</th>\n",
       "      <td>c_1699</td>\n",
       "      <td>f</td>\n",
       "      <td>1984</td>\n",
       "    </tr>\n",
       "    <tr>\n",
       "      <th>3</th>\n",
       "      <td>c_5961</td>\n",
       "      <td>f</td>\n",
       "      <td>1962</td>\n",
       "    </tr>\n",
       "    <tr>\n",
       "      <th>4</th>\n",
       "      <td>c_5320</td>\n",
       "      <td>m</td>\n",
       "      <td>1943</td>\n",
       "    </tr>\n",
       "  </tbody>\n",
       "</table>\n",
       "</div>"
      ],
      "text/plain": [
       "  client_id sex  birth\n",
       "0    c_4410   f   1967\n",
       "1    c_7839   f   1975\n",
       "2    c_1699   f   1984\n",
       "3    c_5961   f   1962\n",
       "4    c_5320   m   1943"
      ]
     },
     "execution_count": 5,
     "metadata": {},
     "output_type": "execute_result"
    }
   ],
   "source": [
    "df_customers.head()"
   ]
  },
  {
   "cell_type": "code",
   "execution_count": 6,
   "id": "b580624c",
   "metadata": {},
   "outputs": [
    {
     "data": {
      "text/html": [
       "<div>\n",
       "<style scoped>\n",
       "    .dataframe tbody tr th:only-of-type {\n",
       "        vertical-align: middle;\n",
       "    }\n",
       "\n",
       "    .dataframe tbody tr th {\n",
       "        vertical-align: top;\n",
       "    }\n",
       "\n",
       "    .dataframe thead th {\n",
       "        text-align: right;\n",
       "    }\n",
       "</style>\n",
       "<table border=\"1\" class=\"dataframe\">\n",
       "  <thead>\n",
       "    <tr style=\"text-align: right;\">\n",
       "      <th></th>\n",
       "      <th>id_prod</th>\n",
       "      <th>price</th>\n",
       "      <th>categ</th>\n",
       "    </tr>\n",
       "  </thead>\n",
       "  <tbody>\n",
       "    <tr>\n",
       "      <th>0</th>\n",
       "      <td>0_1421</td>\n",
       "      <td>19.99</td>\n",
       "      <td>0</td>\n",
       "    </tr>\n",
       "    <tr>\n",
       "      <th>1</th>\n",
       "      <td>0_1368</td>\n",
       "      <td>5.13</td>\n",
       "      <td>0</td>\n",
       "    </tr>\n",
       "    <tr>\n",
       "      <th>2</th>\n",
       "      <td>0_731</td>\n",
       "      <td>17.99</td>\n",
       "      <td>0</td>\n",
       "    </tr>\n",
       "    <tr>\n",
       "      <th>3</th>\n",
       "      <td>1_587</td>\n",
       "      <td>4.99</td>\n",
       "      <td>1</td>\n",
       "    </tr>\n",
       "    <tr>\n",
       "      <th>4</th>\n",
       "      <td>0_1507</td>\n",
       "      <td>3.99</td>\n",
       "      <td>0</td>\n",
       "    </tr>\n",
       "  </tbody>\n",
       "</table>\n",
       "</div>"
      ],
      "text/plain": [
       "  id_prod  price  categ\n",
       "0  0_1421  19.99      0\n",
       "1  0_1368   5.13      0\n",
       "2   0_731  17.99      0\n",
       "3   1_587   4.99      1\n",
       "4  0_1507   3.99      0"
      ]
     },
     "execution_count": 6,
     "metadata": {},
     "output_type": "execute_result"
    }
   ],
   "source": [
    "df_products.head()"
   ]
  },
  {
   "cell_type": "code",
   "execution_count": 7,
   "id": "972c8a23",
   "metadata": {},
   "outputs": [
    {
     "data": {
      "text/html": [
       "<div>\n",
       "<style scoped>\n",
       "    .dataframe tbody tr th:only-of-type {\n",
       "        vertical-align: middle;\n",
       "    }\n",
       "\n",
       "    .dataframe tbody tr th {\n",
       "        vertical-align: top;\n",
       "    }\n",
       "\n",
       "    .dataframe thead th {\n",
       "        text-align: right;\n",
       "    }\n",
       "</style>\n",
       "<table border=\"1\" class=\"dataframe\">\n",
       "  <thead>\n",
       "    <tr style=\"text-align: right;\">\n",
       "      <th></th>\n",
       "      <th>id_prod</th>\n",
       "      <th>date</th>\n",
       "      <th>session_id</th>\n",
       "      <th>client_id</th>\n",
       "    </tr>\n",
       "  </thead>\n",
       "  <tbody>\n",
       "    <tr>\n",
       "      <th>0</th>\n",
       "      <td>0_1483</td>\n",
       "      <td>2021-04-10 18:37:28.723910</td>\n",
       "      <td>s_18746</td>\n",
       "      <td>c_4450</td>\n",
       "    </tr>\n",
       "    <tr>\n",
       "      <th>1</th>\n",
       "      <td>2_226</td>\n",
       "      <td>2022-02-03 01:55:53.276402</td>\n",
       "      <td>s_159142</td>\n",
       "      <td>c_277</td>\n",
       "    </tr>\n",
       "    <tr>\n",
       "      <th>2</th>\n",
       "      <td>1_374</td>\n",
       "      <td>2021-09-23 15:13:46.938559</td>\n",
       "      <td>s_94290</td>\n",
       "      <td>c_4270</td>\n",
       "    </tr>\n",
       "    <tr>\n",
       "      <th>3</th>\n",
       "      <td>0_2186</td>\n",
       "      <td>2021-10-17 03:27:18.783634</td>\n",
       "      <td>s_105936</td>\n",
       "      <td>c_4597</td>\n",
       "    </tr>\n",
       "    <tr>\n",
       "      <th>4</th>\n",
       "      <td>0_1351</td>\n",
       "      <td>2021-07-17 20:34:25.800563</td>\n",
       "      <td>s_63642</td>\n",
       "      <td>c_1242</td>\n",
       "    </tr>\n",
       "  </tbody>\n",
       "</table>\n",
       "</div>"
      ],
      "text/plain": [
       "  id_prod                        date session_id client_id\n",
       "0  0_1483  2021-04-10 18:37:28.723910    s_18746    c_4450\n",
       "1   2_226  2022-02-03 01:55:53.276402   s_159142     c_277\n",
       "2   1_374  2021-09-23 15:13:46.938559    s_94290    c_4270\n",
       "3  0_2186  2021-10-17 03:27:18.783634   s_105936    c_4597\n",
       "4  0_1351  2021-07-17 20:34:25.800563    s_63642    c_1242"
      ]
     },
     "execution_count": 7,
     "metadata": {},
     "output_type": "execute_result"
    }
   ],
   "source": [
    "df_transactions.head()"
   ]
  },
  {
   "attachments": {},
   "cell_type": "markdown",
   "id": "174f6b71",
   "metadata": {},
   "source": [
    "# ETAPE 1 : Nettoyage des données"
   ]
  },
  {
   "attachments": {},
   "cell_type": "markdown",
   "id": "92b4dba3",
   "metadata": {},
   "source": [
    "## Ca peut être utile de regrouper ces trois jeux de données en un seul dataframe à l'aide de jointures"
   ]
  },
  {
   "cell_type": "code",
   "execution_count": 8,
   "id": "6b342bae",
   "metadata": {},
   "outputs": [
    {
     "data": {
      "text/plain": [
       "(337016, 6)"
      ]
     },
     "execution_count": 8,
     "metadata": {},
     "output_type": "execute_result"
    }
   ],
   "source": [
    "data_final=pd.merge(df_transactions,df_products,how='left',on=[\"id_prod\"]) \n",
    "data_final.shape"
   ]
  },
  {
   "cell_type": "code",
   "execution_count": 9,
   "id": "4ccb1f35",
   "metadata": {},
   "outputs": [
    {
     "data": {
      "text/html": [
       "<div>\n",
       "<style scoped>\n",
       "    .dataframe tbody tr th:only-of-type {\n",
       "        vertical-align: middle;\n",
       "    }\n",
       "\n",
       "    .dataframe tbody tr th {\n",
       "        vertical-align: top;\n",
       "    }\n",
       "\n",
       "    .dataframe thead th {\n",
       "        text-align: right;\n",
       "    }\n",
       "</style>\n",
       "<table border=\"1\" class=\"dataframe\">\n",
       "  <thead>\n",
       "    <tr style=\"text-align: right;\">\n",
       "      <th></th>\n",
       "      <th>id_prod</th>\n",
       "      <th>date</th>\n",
       "      <th>session_id</th>\n",
       "      <th>client_id</th>\n",
       "      <th>price</th>\n",
       "      <th>categ</th>\n",
       "      <th>sex</th>\n",
       "      <th>birth</th>\n",
       "    </tr>\n",
       "  </thead>\n",
       "  <tbody>\n",
       "    <tr>\n",
       "      <th>0</th>\n",
       "      <td>0_1483</td>\n",
       "      <td>2021-04-10 18:37:28.723910</td>\n",
       "      <td>s_18746</td>\n",
       "      <td>c_4450</td>\n",
       "      <td>4.99</td>\n",
       "      <td>0.0</td>\n",
       "      <td>f</td>\n",
       "      <td>1977</td>\n",
       "    </tr>\n",
       "    <tr>\n",
       "      <th>1</th>\n",
       "      <td>2_226</td>\n",
       "      <td>2022-02-03 01:55:53.276402</td>\n",
       "      <td>s_159142</td>\n",
       "      <td>c_277</td>\n",
       "      <td>65.75</td>\n",
       "      <td>2.0</td>\n",
       "      <td>f</td>\n",
       "      <td>2000</td>\n",
       "    </tr>\n",
       "    <tr>\n",
       "      <th>2</th>\n",
       "      <td>1_374</td>\n",
       "      <td>2021-09-23 15:13:46.938559</td>\n",
       "      <td>s_94290</td>\n",
       "      <td>c_4270</td>\n",
       "      <td>10.71</td>\n",
       "      <td>1.0</td>\n",
       "      <td>f</td>\n",
       "      <td>1979</td>\n",
       "    </tr>\n",
       "    <tr>\n",
       "      <th>3</th>\n",
       "      <td>0_2186</td>\n",
       "      <td>2021-10-17 03:27:18.783634</td>\n",
       "      <td>s_105936</td>\n",
       "      <td>c_4597</td>\n",
       "      <td>4.20</td>\n",
       "      <td>0.0</td>\n",
       "      <td>m</td>\n",
       "      <td>1963</td>\n",
       "    </tr>\n",
       "    <tr>\n",
       "      <th>4</th>\n",
       "      <td>0_1351</td>\n",
       "      <td>2021-07-17 20:34:25.800563</td>\n",
       "      <td>s_63642</td>\n",
       "      <td>c_1242</td>\n",
       "      <td>8.99</td>\n",
       "      <td>0.0</td>\n",
       "      <td>f</td>\n",
       "      <td>1980</td>\n",
       "    </tr>\n",
       "  </tbody>\n",
       "</table>\n",
       "</div>"
      ],
      "text/plain": [
       "  id_prod                        date session_id client_id  price  categ sex  \\\n",
       "0  0_1483  2021-04-10 18:37:28.723910    s_18746    c_4450   4.99    0.0   f   \n",
       "1   2_226  2022-02-03 01:55:53.276402   s_159142     c_277  65.75    2.0   f   \n",
       "2   1_374  2021-09-23 15:13:46.938559    s_94290    c_4270  10.71    1.0   f   \n",
       "3  0_2186  2021-10-17 03:27:18.783634   s_105936    c_4597   4.20    0.0   m   \n",
       "4  0_1351  2021-07-17 20:34:25.800563    s_63642    c_1242   8.99    0.0   f   \n",
       "\n",
       "   birth  \n",
       "0   1977  \n",
       "1   2000  \n",
       "2   1979  \n",
       "3   1963  \n",
       "4   1980  "
      ]
     },
     "execution_count": 9,
     "metadata": {},
     "output_type": "execute_result"
    }
   ],
   "source": [
    "data_final=pd.merge(data_final,df_customers,how='left',on=[\"client_id\"]) \n",
    "data_final.head(5)"
   ]
  },
  {
   "attachments": {},
   "cell_type": "markdown",
   "id": "5ad5e29f",
   "metadata": {},
   "source": [
    "## On va ensuite vérifier s’il n’y a pas des valeurs manquantes."
   ]
  },
  {
   "cell_type": "code",
   "execution_count": 10,
   "id": "b25ff086",
   "metadata": {},
   "outputs": [
    {
     "data": {
      "text/plain": [
       "id_prod       False\n",
       "date          False\n",
       "session_id    False\n",
       "client_id     False\n",
       "price          True\n",
       "categ          True\n",
       "sex           False\n",
       "birth         False\n",
       "dtype: bool"
      ]
     },
     "execution_count": 10,
     "metadata": {},
     "output_type": "execute_result"
    }
   ],
   "source": [
    "data_final.isnull().any()"
   ]
  },
  {
   "cell_type": "code",
   "execution_count": 11,
   "id": "cac1d807",
   "metadata": {},
   "outputs": [
    {
     "data": {
      "text/plain": [
       "id_prod         0\n",
       "date            0\n",
       "session_id      0\n",
       "client_id       0\n",
       "price         103\n",
       "categ         103\n",
       "sex             0\n",
       "birth           0\n",
       "dtype: int64"
      ]
     },
     "execution_count": 11,
     "metadata": {},
     "output_type": "execute_result"
    }
   ],
   "source": [
    "data_final.isnull().sum()"
   ]
  },
  {
   "attachments": {},
   "cell_type": "markdown",
   "id": "af7bc58a",
   "metadata": {},
   "source": [
    "## On remarque que nous avons des transactions avec des valeurs manquantes en ce qui concerne le prix et la catégorie. On essaye de les afficher."
   ]
  },
  {
   "cell_type": "code",
   "execution_count": 12,
   "id": "a6f02217",
   "metadata": {},
   "outputs": [
    {
     "data": {
      "text/html": [
       "<div>\n",
       "<style scoped>\n",
       "    .dataframe tbody tr th:only-of-type {\n",
       "        vertical-align: middle;\n",
       "    }\n",
       "\n",
       "    .dataframe tbody tr th {\n",
       "        vertical-align: top;\n",
       "    }\n",
       "\n",
       "    .dataframe thead th {\n",
       "        text-align: right;\n",
       "    }\n",
       "</style>\n",
       "<table border=\"1\" class=\"dataframe\">\n",
       "  <thead>\n",
       "    <tr style=\"text-align: right;\">\n",
       "      <th></th>\n",
       "      <th>id_prod</th>\n",
       "      <th>date</th>\n",
       "      <th>session_id</th>\n",
       "      <th>client_id</th>\n",
       "      <th>price</th>\n",
       "      <th>categ</th>\n",
       "      <th>sex</th>\n",
       "      <th>birth</th>\n",
       "    </tr>\n",
       "  </thead>\n",
       "  <tbody>\n",
       "    <tr>\n",
       "      <th>6235</th>\n",
       "      <td>0_2245</td>\n",
       "      <td>2021-06-17 03:03:12.668129</td>\n",
       "      <td>s_49705</td>\n",
       "      <td>c_1533</td>\n",
       "      <td>NaN</td>\n",
       "      <td>NaN</td>\n",
       "      <td>m</td>\n",
       "      <td>1972</td>\n",
       "    </tr>\n",
       "    <tr>\n",
       "      <th>10802</th>\n",
       "      <td>0_2245</td>\n",
       "      <td>2021-06-16 05:53:01.627491</td>\n",
       "      <td>s_49323</td>\n",
       "      <td>c_7954</td>\n",
       "      <td>NaN</td>\n",
       "      <td>NaN</td>\n",
       "      <td>m</td>\n",
       "      <td>1973</td>\n",
       "    </tr>\n",
       "    <tr>\n",
       "      <th>14051</th>\n",
       "      <td>0_2245</td>\n",
       "      <td>2021-11-24 17:35:59.911427</td>\n",
       "      <td>s_124474</td>\n",
       "      <td>c_5120</td>\n",
       "      <td>NaN</td>\n",
       "      <td>NaN</td>\n",
       "      <td>f</td>\n",
       "      <td>1975</td>\n",
       "    </tr>\n",
       "    <tr>\n",
       "      <th>17486</th>\n",
       "      <td>0_2245</td>\n",
       "      <td>2022-02-28 18:08:49.875709</td>\n",
       "      <td>s_172304</td>\n",
       "      <td>c_4964</td>\n",
       "      <td>NaN</td>\n",
       "      <td>NaN</td>\n",
       "      <td>f</td>\n",
       "      <td>1982</td>\n",
       "    </tr>\n",
       "    <tr>\n",
       "      <th>21078</th>\n",
       "      <td>0_2245</td>\n",
       "      <td>2021-03-01 00:09:29.301897</td>\n",
       "      <td>s_3</td>\n",
       "      <td>c_580</td>\n",
       "      <td>NaN</td>\n",
       "      <td>NaN</td>\n",
       "      <td>m</td>\n",
       "      <td>1988</td>\n",
       "    </tr>\n",
       "    <tr>\n",
       "      <th>...</th>\n",
       "      <td>...</td>\n",
       "      <td>...</td>\n",
       "      <td>...</td>\n",
       "      <td>...</td>\n",
       "      <td>...</td>\n",
       "      <td>...</td>\n",
       "      <td>...</td>\n",
       "      <td>...</td>\n",
       "    </tr>\n",
       "    <tr>\n",
       "      <th>322710</th>\n",
       "      <td>0_2245</td>\n",
       "      <td>2021-04-06 19:59:19.462288</td>\n",
       "      <td>s_16936</td>\n",
       "      <td>c_4167</td>\n",
       "      <td>NaN</td>\n",
       "      <td>NaN</td>\n",
       "      <td>f</td>\n",
       "      <td>1979</td>\n",
       "    </tr>\n",
       "    <tr>\n",
       "      <th>329417</th>\n",
       "      <td>0_2245</td>\n",
       "      <td>2021-03-30 23:29:02.347672</td>\n",
       "      <td>s_13738</td>\n",
       "      <td>c_7790</td>\n",
       "      <td>NaN</td>\n",
       "      <td>NaN</td>\n",
       "      <td>f</td>\n",
       "      <td>1983</td>\n",
       "    </tr>\n",
       "    <tr>\n",
       "      <th>330490</th>\n",
       "      <td>0_2245</td>\n",
       "      <td>2021-12-03 14:14:40.444177</td>\n",
       "      <td>s_128815</td>\n",
       "      <td>c_6189</td>\n",
       "      <td>NaN</td>\n",
       "      <td>NaN</td>\n",
       "      <td>f</td>\n",
       "      <td>1984</td>\n",
       "    </tr>\n",
       "    <tr>\n",
       "      <th>335531</th>\n",
       "      <td>0_2245</td>\n",
       "      <td>2021-04-27 18:58:47.703374</td>\n",
       "      <td>s_26624</td>\n",
       "      <td>c_1595</td>\n",
       "      <td>NaN</td>\n",
       "      <td>NaN</td>\n",
       "      <td>f</td>\n",
       "      <td>1973</td>\n",
       "    </tr>\n",
       "    <tr>\n",
       "      <th>336220</th>\n",
       "      <td>0_2245</td>\n",
       "      <td>2021-05-01 03:35:03.146305</td>\n",
       "      <td>s_28235</td>\n",
       "      <td>c_5714</td>\n",
       "      <td>NaN</td>\n",
       "      <td>NaN</td>\n",
       "      <td>f</td>\n",
       "      <td>1972</td>\n",
       "    </tr>\n",
       "  </tbody>\n",
       "</table>\n",
       "<p>103 rows × 8 columns</p>\n",
       "</div>"
      ],
      "text/plain": [
       "       id_prod                        date session_id client_id  price  categ  \\\n",
       "6235    0_2245  2021-06-17 03:03:12.668129    s_49705    c_1533    NaN    NaN   \n",
       "10802   0_2245  2021-06-16 05:53:01.627491    s_49323    c_7954    NaN    NaN   \n",
       "14051   0_2245  2021-11-24 17:35:59.911427   s_124474    c_5120    NaN    NaN   \n",
       "17486   0_2245  2022-02-28 18:08:49.875709   s_172304    c_4964    NaN    NaN   \n",
       "21078   0_2245  2021-03-01 00:09:29.301897        s_3     c_580    NaN    NaN   \n",
       "...        ...                         ...        ...       ...    ...    ...   \n",
       "322710  0_2245  2021-04-06 19:59:19.462288    s_16936    c_4167    NaN    NaN   \n",
       "329417  0_2245  2021-03-30 23:29:02.347672    s_13738    c_7790    NaN    NaN   \n",
       "330490  0_2245  2021-12-03 14:14:40.444177   s_128815    c_6189    NaN    NaN   \n",
       "335531  0_2245  2021-04-27 18:58:47.703374    s_26624    c_1595    NaN    NaN   \n",
       "336220  0_2245  2021-05-01 03:35:03.146305    s_28235    c_5714    NaN    NaN   \n",
       "\n",
       "       sex  birth  \n",
       "6235     m   1972  \n",
       "10802    m   1973  \n",
       "14051    f   1975  \n",
       "17486    f   1982  \n",
       "21078    m   1988  \n",
       "...     ..    ...  \n",
       "322710   f   1979  \n",
       "329417   f   1983  \n",
       "330490   f   1984  \n",
       "335531   f   1973  \n",
       "336220   f   1972  \n",
       "\n",
       "[103 rows x 8 columns]"
      ]
     },
     "execution_count": 12,
     "metadata": {},
     "output_type": "execute_result"
    }
   ],
   "source": [
    "data_final[np.isnan(data_final[\"price\"])]"
   ]
  },
  {
   "attachments": {},
   "cell_type": "markdown",
   "id": "d420dbf8",
   "metadata": {},
   "source": [
    "## Les valeurs manquantes ne concernent qu'un seul produit \"2245\". Nous avons la possibilité soit de supprimer ses opérations soit de leur donner comme prix, la valeur moyenne de la catégorie 0."
   ]
  },
  {
   "attachments": {},
   "cell_type": "markdown",
   "id": "dd5612e2",
   "metadata": {},
   "source": [
    "## On décide de supprimer ses opérations car avec cette décision, nous perdons un faible nombre de transactions, nous passons de 33 7016 transactions à 33 6913."
   ]
  },
  {
   "attachments": {},
   "cell_type": "markdown",
   "id": "27219731",
   "metadata": {},
   "source": [
    "## -> On va regarder aussi si on a des valeurs aberrantes."
   ]
  },
  {
   "attachments": {},
   "cell_type": "markdown",
   "id": "b1549aaf",
   "metadata": {},
   "source": [
    "## -> On va essayer de trier le tableau par ordre croissant."
   ]
  },
  {
   "cell_type": "code",
   "execution_count": 13,
   "id": "5a97ea91",
   "metadata": {},
   "outputs": [
    {
     "data": {
      "text/html": [
       "<div>\n",
       "<style scoped>\n",
       "    .dataframe tbody tr th:only-of-type {\n",
       "        vertical-align: middle;\n",
       "    }\n",
       "\n",
       "    .dataframe tbody tr th {\n",
       "        vertical-align: top;\n",
       "    }\n",
       "\n",
       "    .dataframe thead th {\n",
       "        text-align: right;\n",
       "    }\n",
       "</style>\n",
       "<table border=\"1\" class=\"dataframe\">\n",
       "  <thead>\n",
       "    <tr style=\"text-align: right;\">\n",
       "      <th></th>\n",
       "      <th>price</th>\n",
       "      <th>categ</th>\n",
       "      <th>birth</th>\n",
       "    </tr>\n",
       "    <tr>\n",
       "      <th>client_id</th>\n",
       "      <th></th>\n",
       "      <th></th>\n",
       "      <th></th>\n",
       "    </tr>\n",
       "  </thead>\n",
       "  <tbody>\n",
       "    <tr>\n",
       "      <th>ct_0</th>\n",
       "      <td>-106.00</td>\n",
       "      <td>0.0</td>\n",
       "      <td>212106</td>\n",
       "    </tr>\n",
       "    <tr>\n",
       "      <th>ct_1</th>\n",
       "      <td>-94.00</td>\n",
       "      <td>0.0</td>\n",
       "      <td>188094</td>\n",
       "    </tr>\n",
       "    <tr>\n",
       "      <th>c_8140</th>\n",
       "      <td>4.15</td>\n",
       "      <td>0.0</td>\n",
       "      <td>1971</td>\n",
       "    </tr>\n",
       "    <tr>\n",
       "      <th>c_8114</th>\n",
       "      <td>4.99</td>\n",
       "      <td>0.0</td>\n",
       "      <td>1962</td>\n",
       "    </tr>\n",
       "    <tr>\n",
       "      <th>c_1675</th>\n",
       "      <td>5.57</td>\n",
       "      <td>0.0</td>\n",
       "      <td>2000</td>\n",
       "    </tr>\n",
       "  </tbody>\n",
       "</table>\n",
       "</div>"
      ],
      "text/plain": [
       "            price  categ   birth\n",
       "client_id                       \n",
       "ct_0      -106.00    0.0  212106\n",
       "ct_1       -94.00    0.0  188094\n",
       "c_8140       4.15    0.0    1971\n",
       "c_8114       4.99    0.0    1962\n",
       "c_1675       5.57    0.0    2000"
      ]
     },
     "execution_count": 13,
     "metadata": {},
     "output_type": "execute_result"
    }
   ],
   "source": [
    "data_final.groupby('client_id').sum().sort_values('price', ascending=True).head()"
   ]
  },
  {
   "attachments": {},
   "cell_type": "markdown",
   "id": "8db6262e",
   "metadata": {},
   "source": [
    "## On cherche à voir pourquoi il y a des clients qui ont des achats négatifs."
   ]
  },
  {
   "cell_type": "code",
   "execution_count": 14,
   "id": "c016cab3",
   "metadata": {},
   "outputs": [
    {
     "data": {
      "text/html": [
       "<div>\n",
       "<style scoped>\n",
       "    .dataframe tbody tr th:only-of-type {\n",
       "        vertical-align: middle;\n",
       "    }\n",
       "\n",
       "    .dataframe tbody tr th {\n",
       "        vertical-align: top;\n",
       "    }\n",
       "\n",
       "    .dataframe thead th {\n",
       "        text-align: right;\n",
       "    }\n",
       "</style>\n",
       "<table border=\"1\" class=\"dataframe\">\n",
       "  <thead>\n",
       "    <tr style=\"text-align: right;\">\n",
       "      <th></th>\n",
       "      <th>id_prod</th>\n",
       "      <th>date</th>\n",
       "      <th>session_id</th>\n",
       "      <th>client_id</th>\n",
       "      <th>price</th>\n",
       "      <th>categ</th>\n",
       "      <th>sex</th>\n",
       "      <th>birth</th>\n",
       "    </tr>\n",
       "  </thead>\n",
       "  <tbody>\n",
       "    <tr>\n",
       "      <th>1431</th>\n",
       "      <td>T_0</td>\n",
       "      <td>test_2021-03-01 02:30:02.237420</td>\n",
       "      <td>s_0</td>\n",
       "      <td>ct_1</td>\n",
       "      <td>-1.0</td>\n",
       "      <td>0.0</td>\n",
       "      <td>m</td>\n",
       "      <td>2001</td>\n",
       "    </tr>\n",
       "    <tr>\n",
       "      <th>2365</th>\n",
       "      <td>T_0</td>\n",
       "      <td>test_2021-03-01 02:30:02.237446</td>\n",
       "      <td>s_0</td>\n",
       "      <td>ct_1</td>\n",
       "      <td>-1.0</td>\n",
       "      <td>0.0</td>\n",
       "      <td>m</td>\n",
       "      <td>2001</td>\n",
       "    </tr>\n",
       "    <tr>\n",
       "      <th>2895</th>\n",
       "      <td>T_0</td>\n",
       "      <td>test_2021-03-01 02:30:02.237414</td>\n",
       "      <td>s_0</td>\n",
       "      <td>ct_1</td>\n",
       "      <td>-1.0</td>\n",
       "      <td>0.0</td>\n",
       "      <td>m</td>\n",
       "      <td>2001</td>\n",
       "    </tr>\n",
       "    <tr>\n",
       "      <th>5955</th>\n",
       "      <td>T_0</td>\n",
       "      <td>test_2021-03-01 02:30:02.237441</td>\n",
       "      <td>s_0</td>\n",
       "      <td>ct_0</td>\n",
       "      <td>-1.0</td>\n",
       "      <td>0.0</td>\n",
       "      <td>f</td>\n",
       "      <td>2001</td>\n",
       "    </tr>\n",
       "    <tr>\n",
       "      <th>7283</th>\n",
       "      <td>T_0</td>\n",
       "      <td>test_2021-03-01 02:30:02.237434</td>\n",
       "      <td>s_0</td>\n",
       "      <td>ct_1</td>\n",
       "      <td>-1.0</td>\n",
       "      <td>0.0</td>\n",
       "      <td>m</td>\n",
       "      <td>2001</td>\n",
       "    </tr>\n",
       "    <tr>\n",
       "      <th>13745</th>\n",
       "      <td>T_0</td>\n",
       "      <td>test_2021-03-01 02:30:02.237443</td>\n",
       "      <td>s_0</td>\n",
       "      <td>ct_0</td>\n",
       "      <td>-1.0</td>\n",
       "      <td>0.0</td>\n",
       "      <td>f</td>\n",
       "      <td>2001</td>\n",
       "    </tr>\n",
       "    <tr>\n",
       "      <th>20470</th>\n",
       "      <td>T_0</td>\n",
       "      <td>test_2021-03-01 02:30:02.237442</td>\n",
       "      <td>s_0</td>\n",
       "      <td>ct_0</td>\n",
       "      <td>-1.0</td>\n",
       "      <td>0.0</td>\n",
       "      <td>f</td>\n",
       "      <td>2001</td>\n",
       "    </tr>\n",
       "    <tr>\n",
       "      <th>22347</th>\n",
       "      <td>T_0</td>\n",
       "      <td>test_2021-03-01 02:30:02.237412</td>\n",
       "      <td>s_0</td>\n",
       "      <td>ct_1</td>\n",
       "      <td>-1.0</td>\n",
       "      <td>0.0</td>\n",
       "      <td>m</td>\n",
       "      <td>2001</td>\n",
       "    </tr>\n",
       "    <tr>\n",
       "      <th>26359</th>\n",
       "      <td>T_0</td>\n",
       "      <td>test_2021-03-01 02:30:02.237439</td>\n",
       "      <td>s_0</td>\n",
       "      <td>ct_1</td>\n",
       "      <td>-1.0</td>\n",
       "      <td>0.0</td>\n",
       "      <td>m</td>\n",
       "      <td>2001</td>\n",
       "    </tr>\n",
       "    <tr>\n",
       "      <th>26407</th>\n",
       "      <td>T_0</td>\n",
       "      <td>test_2021-03-01 02:30:02.237426</td>\n",
       "      <td>s_0</td>\n",
       "      <td>ct_0</td>\n",
       "      <td>-1.0</td>\n",
       "      <td>0.0</td>\n",
       "      <td>f</td>\n",
       "      <td>2001</td>\n",
       "    </tr>\n",
       "  </tbody>\n",
       "</table>\n",
       "</div>"
      ],
      "text/plain": [
       "      id_prod                             date session_id client_id  price  \\\n",
       "1431      T_0  test_2021-03-01 02:30:02.237420        s_0      ct_1   -1.0   \n",
       "2365      T_0  test_2021-03-01 02:30:02.237446        s_0      ct_1   -1.0   \n",
       "2895      T_0  test_2021-03-01 02:30:02.237414        s_0      ct_1   -1.0   \n",
       "5955      T_0  test_2021-03-01 02:30:02.237441        s_0      ct_0   -1.0   \n",
       "7283      T_0  test_2021-03-01 02:30:02.237434        s_0      ct_1   -1.0   \n",
       "13745     T_0  test_2021-03-01 02:30:02.237443        s_0      ct_0   -1.0   \n",
       "20470     T_0  test_2021-03-01 02:30:02.237442        s_0      ct_0   -1.0   \n",
       "22347     T_0  test_2021-03-01 02:30:02.237412        s_0      ct_1   -1.0   \n",
       "26359     T_0  test_2021-03-01 02:30:02.237439        s_0      ct_1   -1.0   \n",
       "26407     T_0  test_2021-03-01 02:30:02.237426        s_0      ct_0   -1.0   \n",
       "\n",
       "       categ sex  birth  \n",
       "1431     0.0   m   2001  \n",
       "2365     0.0   m   2001  \n",
       "2895     0.0   m   2001  \n",
       "5955     0.0   f   2001  \n",
       "7283     0.0   m   2001  \n",
       "13745    0.0   f   2001  \n",
       "20470    0.0   f   2001  \n",
       "22347    0.0   m   2001  \n",
       "26359    0.0   m   2001  \n",
       "26407    0.0   f   2001  "
      ]
     },
     "execution_count": 14,
     "metadata": {},
     "output_type": "execute_result"
    }
   ],
   "source": [
    "data_final[data_final.price<0].head(10)"
   ]
  },
  {
   "attachments": {},
   "cell_type": "markdown",
   "id": "460dceae",
   "metadata": {},
   "source": [
    "## On remarque que l’on a des tests dans le dataframe donc on les supprime."
   ]
  },
  {
   "cell_type": "code",
   "execution_count": 15,
   "id": "8e733083",
   "metadata": {},
   "outputs": [
    {
     "data": {
      "text/html": [
       "<div>\n",
       "<style scoped>\n",
       "    .dataframe tbody tr th:only-of-type {\n",
       "        vertical-align: middle;\n",
       "    }\n",
       "\n",
       "    .dataframe tbody tr th {\n",
       "        vertical-align: top;\n",
       "    }\n",
       "\n",
       "    .dataframe thead th {\n",
       "        text-align: right;\n",
       "    }\n",
       "</style>\n",
       "<table border=\"1\" class=\"dataframe\">\n",
       "  <thead>\n",
       "    <tr style=\"text-align: right;\">\n",
       "      <th></th>\n",
       "      <th>id_prod</th>\n",
       "      <th>date</th>\n",
       "      <th>session_id</th>\n",
       "      <th>client_id</th>\n",
       "      <th>price</th>\n",
       "      <th>categ</th>\n",
       "      <th>sex</th>\n",
       "      <th>birth</th>\n",
       "    </tr>\n",
       "  </thead>\n",
       "  <tbody>\n",
       "    <tr>\n",
       "      <th>1431</th>\n",
       "      <td>T_0</td>\n",
       "      <td>test_2021-03-01 02:30:02.237420</td>\n",
       "      <td>s_0</td>\n",
       "      <td>ct_1</td>\n",
       "      <td>-1.0</td>\n",
       "      <td>0.0</td>\n",
       "      <td>m</td>\n",
       "      <td>2001</td>\n",
       "    </tr>\n",
       "    <tr>\n",
       "      <th>2365</th>\n",
       "      <td>T_0</td>\n",
       "      <td>test_2021-03-01 02:30:02.237446</td>\n",
       "      <td>s_0</td>\n",
       "      <td>ct_1</td>\n",
       "      <td>-1.0</td>\n",
       "      <td>0.0</td>\n",
       "      <td>m</td>\n",
       "      <td>2001</td>\n",
       "    </tr>\n",
       "    <tr>\n",
       "      <th>2895</th>\n",
       "      <td>T_0</td>\n",
       "      <td>test_2021-03-01 02:30:02.237414</td>\n",
       "      <td>s_0</td>\n",
       "      <td>ct_1</td>\n",
       "      <td>-1.0</td>\n",
       "      <td>0.0</td>\n",
       "      <td>m</td>\n",
       "      <td>2001</td>\n",
       "    </tr>\n",
       "    <tr>\n",
       "      <th>5955</th>\n",
       "      <td>T_0</td>\n",
       "      <td>test_2021-03-01 02:30:02.237441</td>\n",
       "      <td>s_0</td>\n",
       "      <td>ct_0</td>\n",
       "      <td>-1.0</td>\n",
       "      <td>0.0</td>\n",
       "      <td>f</td>\n",
       "      <td>2001</td>\n",
       "    </tr>\n",
       "    <tr>\n",
       "      <th>7283</th>\n",
       "      <td>T_0</td>\n",
       "      <td>test_2021-03-01 02:30:02.237434</td>\n",
       "      <td>s_0</td>\n",
       "      <td>ct_1</td>\n",
       "      <td>-1.0</td>\n",
       "      <td>0.0</td>\n",
       "      <td>m</td>\n",
       "      <td>2001</td>\n",
       "    </tr>\n",
       "    <tr>\n",
       "      <th>13745</th>\n",
       "      <td>T_0</td>\n",
       "      <td>test_2021-03-01 02:30:02.237443</td>\n",
       "      <td>s_0</td>\n",
       "      <td>ct_0</td>\n",
       "      <td>-1.0</td>\n",
       "      <td>0.0</td>\n",
       "      <td>f</td>\n",
       "      <td>2001</td>\n",
       "    </tr>\n",
       "    <tr>\n",
       "      <th>20470</th>\n",
       "      <td>T_0</td>\n",
       "      <td>test_2021-03-01 02:30:02.237442</td>\n",
       "      <td>s_0</td>\n",
       "      <td>ct_0</td>\n",
       "      <td>-1.0</td>\n",
       "      <td>0.0</td>\n",
       "      <td>f</td>\n",
       "      <td>2001</td>\n",
       "    </tr>\n",
       "    <tr>\n",
       "      <th>22347</th>\n",
       "      <td>T_0</td>\n",
       "      <td>test_2021-03-01 02:30:02.237412</td>\n",
       "      <td>s_0</td>\n",
       "      <td>ct_1</td>\n",
       "      <td>-1.0</td>\n",
       "      <td>0.0</td>\n",
       "      <td>m</td>\n",
       "      <td>2001</td>\n",
       "    </tr>\n",
       "    <tr>\n",
       "      <th>26359</th>\n",
       "      <td>T_0</td>\n",
       "      <td>test_2021-03-01 02:30:02.237439</td>\n",
       "      <td>s_0</td>\n",
       "      <td>ct_1</td>\n",
       "      <td>-1.0</td>\n",
       "      <td>0.0</td>\n",
       "      <td>m</td>\n",
       "      <td>2001</td>\n",
       "    </tr>\n",
       "    <tr>\n",
       "      <th>26407</th>\n",
       "      <td>T_0</td>\n",
       "      <td>test_2021-03-01 02:30:02.237426</td>\n",
       "      <td>s_0</td>\n",
       "      <td>ct_0</td>\n",
       "      <td>-1.0</td>\n",
       "      <td>0.0</td>\n",
       "      <td>f</td>\n",
       "      <td>2001</td>\n",
       "    </tr>\n",
       "  </tbody>\n",
       "</table>\n",
       "</div>"
      ],
      "text/plain": [
       "      id_prod                             date session_id client_id  price  \\\n",
       "1431      T_0  test_2021-03-01 02:30:02.237420        s_0      ct_1   -1.0   \n",
       "2365      T_0  test_2021-03-01 02:30:02.237446        s_0      ct_1   -1.0   \n",
       "2895      T_0  test_2021-03-01 02:30:02.237414        s_0      ct_1   -1.0   \n",
       "5955      T_0  test_2021-03-01 02:30:02.237441        s_0      ct_0   -1.0   \n",
       "7283      T_0  test_2021-03-01 02:30:02.237434        s_0      ct_1   -1.0   \n",
       "13745     T_0  test_2021-03-01 02:30:02.237443        s_0      ct_0   -1.0   \n",
       "20470     T_0  test_2021-03-01 02:30:02.237442        s_0      ct_0   -1.0   \n",
       "22347     T_0  test_2021-03-01 02:30:02.237412        s_0      ct_1   -1.0   \n",
       "26359     T_0  test_2021-03-01 02:30:02.237439        s_0      ct_1   -1.0   \n",
       "26407     T_0  test_2021-03-01 02:30:02.237426        s_0      ct_0   -1.0   \n",
       "\n",
       "       categ sex  birth  \n",
       "1431     0.0   m   2001  \n",
       "2365     0.0   m   2001  \n",
       "2895     0.0   m   2001  \n",
       "5955     0.0   f   2001  \n",
       "7283     0.0   m   2001  \n",
       "13745    0.0   f   2001  \n",
       "20470    0.0   f   2001  \n",
       "22347    0.0   m   2001  \n",
       "26359    0.0   m   2001  \n",
       "26407    0.0   f   2001  "
      ]
     },
     "execution_count": 15,
     "metadata": {},
     "output_type": "execute_result"
    }
   ],
   "source": [
    "data_final[data_final.price<0].head(10)"
   ]
  },
  {
   "cell_type": "markdown",
   "id": "76b004b7",
   "metadata": {},
   "source": [
    "## Cleaning :"
   ]
  },
  {
   "attachments": {},
   "cell_type": "markdown",
   "id": "cd940842",
   "metadata": {},
   "source": [
    "## Enfin, on réalise quelques nettoyages par anticipation sur nos analyses. Ex, nous allons convertir la colonne date en date time. Et par la suite, nous créons plusieurs colonnes qui donnent année, mois, jour, weekend."
   ]
  },
  {
   "cell_type": "code",
   "execution_count": 16,
   "id": "7811fdcd",
   "metadata": {},
   "outputs": [
    {
     "ename": "ValueError",
     "evalue": "time data test_2021-03-01 02:30:02.237420 doesn't match format specified",
     "output_type": "error",
     "traceback": [
      "\u001b[0;31m---------------------------------------------------------------------------\u001b[0m",
      "\u001b[0;31mTypeError\u001b[0m                                 Traceback (most recent call last)",
      "\u001b[0;32m~/opt/anaconda3/lib/python3.8/site-packages/pandas/core/arrays/datetimes.py\u001b[0m in \u001b[0;36mobjects_to_datetime64ns\u001b[0;34m(data, dayfirst, yearfirst, utc, errors, require_iso8601, allow_object)\u001b[0m\n\u001b[1;32m   2084\u001b[0m         \u001b[0;32mtry\u001b[0m\u001b[0;34m:\u001b[0m\u001b[0;34m\u001b[0m\u001b[0;34m\u001b[0m\u001b[0m\n\u001b[0;32m-> 2085\u001b[0;31m             \u001b[0mvalues\u001b[0m\u001b[0;34m,\u001b[0m \u001b[0mtz_parsed\u001b[0m \u001b[0;34m=\u001b[0m \u001b[0mconversion\u001b[0m\u001b[0;34m.\u001b[0m\u001b[0mdatetime_to_datetime64\u001b[0m\u001b[0;34m(\u001b[0m\u001b[0mdata\u001b[0m\u001b[0;34m)\u001b[0m\u001b[0;34m\u001b[0m\u001b[0;34m\u001b[0m\u001b[0m\n\u001b[0m\u001b[1;32m   2086\u001b[0m             \u001b[0;31m# If tzaware, these values represent unix timestamps, so we\u001b[0m\u001b[0;34m\u001b[0m\u001b[0;34m\u001b[0m\u001b[0;34m\u001b[0m\u001b[0m\n",
      "\u001b[0;32m~/opt/anaconda3/lib/python3.8/site-packages/pandas-1.3.3-py3.8-macosx-10.9-x86_64.egg/pandas/_libs/tslibs/conversion.pyx\u001b[0m in \u001b[0;36mpandas._libs.tslibs.conversion.datetime_to_datetime64\u001b[0;34m()\u001b[0m\n",
      "\u001b[0;31mTypeError\u001b[0m: Unrecognized value type: <class 'str'>",
      "\nDuring handling of the above exception, another exception occurred:\n",
      "\u001b[0;31mValueError\u001b[0m                                Traceback (most recent call last)",
      "\u001b[0;32m<ipython-input-16-c25a7af3f3ea>\u001b[0m in \u001b[0;36m<module>\u001b[0;34m\u001b[0m\n\u001b[0;32m----> 1\u001b[0;31m \u001b[0mdata_final\u001b[0m\u001b[0;34m.\u001b[0m\u001b[0mdate\u001b[0m\u001b[0;34m=\u001b[0m\u001b[0mpd\u001b[0m\u001b[0;34m.\u001b[0m\u001b[0mto_datetime\u001b[0m\u001b[0;34m(\u001b[0m\u001b[0mdata_final\u001b[0m\u001b[0;34m[\u001b[0m\u001b[0;34m'date'\u001b[0m\u001b[0;34m]\u001b[0m\u001b[0;34m,\u001b[0m\u001b[0mformat\u001b[0m\u001b[0;34m=\u001b[0m\u001b[0;34m'%Y-%m-%d %H:%M:%S.%f'\u001b[0m\u001b[0;34m)\u001b[0m\u001b[0;34m\u001b[0m\u001b[0;34m\u001b[0m\u001b[0m\n\u001b[0m\u001b[1;32m      2\u001b[0m \u001b[0mdata_final\u001b[0m\u001b[0;34m[\u001b[0m\u001b[0;34m\"annee\"\u001b[0m\u001b[0;34m]\u001b[0m \u001b[0;34m=\u001b[0m \u001b[0mdata_final\u001b[0m\u001b[0;34m[\u001b[0m\u001b[0;34m\"date\"\u001b[0m\u001b[0;34m]\u001b[0m\u001b[0;34m.\u001b[0m\u001b[0mmap\u001b[0m\u001b[0;34m(\u001b[0m\u001b[0;32mlambda\u001b[0m \u001b[0md\u001b[0m\u001b[0;34m:\u001b[0m \u001b[0md\u001b[0m\u001b[0;34m.\u001b[0m\u001b[0myear\u001b[0m\u001b[0;34m)\u001b[0m\u001b[0;34m\u001b[0m\u001b[0;34m\u001b[0m\u001b[0m\n\u001b[1;32m      3\u001b[0m \u001b[0mdata_final\u001b[0m\u001b[0;34m[\u001b[0m\u001b[0;34m\"mois\"\u001b[0m\u001b[0;34m]\u001b[0m\u001b[0;34m=\u001b[0m \u001b[0mdata_final\u001b[0m\u001b[0;34m[\u001b[0m\u001b[0;34m\"date\"\u001b[0m\u001b[0;34m]\u001b[0m\u001b[0;34m.\u001b[0m\u001b[0mmap\u001b[0m\u001b[0;34m(\u001b[0m\u001b[0;32mlambda\u001b[0m \u001b[0md\u001b[0m\u001b[0;34m:\u001b[0m \u001b[0md\u001b[0m\u001b[0;34m.\u001b[0m\u001b[0mmonth_name\u001b[0m\u001b[0;34m(\u001b[0m\u001b[0;34m)\u001b[0m\u001b[0;34m)\u001b[0m\u001b[0;34m\u001b[0m\u001b[0;34m\u001b[0m\u001b[0m\n\u001b[1;32m      4\u001b[0m \u001b[0mdata_final\u001b[0m\u001b[0;34m[\u001b[0m\u001b[0;34m\"jour_sem\"\u001b[0m\u001b[0;34m]\u001b[0m \u001b[0;34m=\u001b[0m \u001b[0mdata_final\u001b[0m\u001b[0;34m[\u001b[0m\u001b[0;34m\"date\"\u001b[0m\u001b[0;34m]\u001b[0m\u001b[0;34m.\u001b[0m\u001b[0mmap\u001b[0m\u001b[0;34m(\u001b[0m\u001b[0;32mlambda\u001b[0m \u001b[0md\u001b[0m\u001b[0;34m:\u001b[0m \u001b[0md\u001b[0m\u001b[0;34m.\u001b[0m\u001b[0mday_name\u001b[0m\u001b[0;34m(\u001b[0m\u001b[0;34m)\u001b[0m\u001b[0;34m)\u001b[0m\u001b[0;34m\u001b[0m\u001b[0;34m\u001b[0m\u001b[0m\n\u001b[1;32m      5\u001b[0m \u001b[0mdata_final\u001b[0m\u001b[0;34m[\u001b[0m\u001b[0;34m\"weekend\"\u001b[0m\u001b[0;34m]\u001b[0m \u001b[0;34m=\u001b[0m \u001b[0mdata_final\u001b[0m\u001b[0;34m[\u001b[0m\u001b[0;34m\"jour_sem\"\u001b[0m\u001b[0;34m]\u001b[0m\u001b[0;34m.\u001b[0m\u001b[0misin\u001b[0m\u001b[0;34m(\u001b[0m\u001b[0mWEEKEND\u001b[0m\u001b[0;34m)\u001b[0m\u001b[0;34m\u001b[0m\u001b[0;34m\u001b[0m\u001b[0m\n",
      "\u001b[0;32m~/opt/anaconda3/lib/python3.8/site-packages/pandas/core/tools/datetimes.py\u001b[0m in \u001b[0;36mto_datetime\u001b[0;34m(arg, errors, dayfirst, yearfirst, utc, format, exact, unit, infer_datetime_format, origin, cache)\u001b[0m\n\u001b[1;32m    803\u001b[0m             \u001b[0mresult\u001b[0m \u001b[0;34m=\u001b[0m \u001b[0marg\u001b[0m\u001b[0;34m.\u001b[0m\u001b[0mmap\u001b[0m\u001b[0;34m(\u001b[0m\u001b[0mcache_array\u001b[0m\u001b[0;34m)\u001b[0m\u001b[0;34m\u001b[0m\u001b[0;34m\u001b[0m\u001b[0m\n\u001b[1;32m    804\u001b[0m         \u001b[0;32melse\u001b[0m\u001b[0;34m:\u001b[0m\u001b[0;34m\u001b[0m\u001b[0;34m\u001b[0m\u001b[0m\n\u001b[0;32m--> 805\u001b[0;31m             \u001b[0mvalues\u001b[0m \u001b[0;34m=\u001b[0m \u001b[0mconvert_listlike\u001b[0m\u001b[0;34m(\u001b[0m\u001b[0marg\u001b[0m\u001b[0;34m.\u001b[0m\u001b[0m_values\u001b[0m\u001b[0;34m,\u001b[0m \u001b[0mformat\u001b[0m\u001b[0;34m)\u001b[0m\u001b[0;34m\u001b[0m\u001b[0;34m\u001b[0m\u001b[0m\n\u001b[0m\u001b[1;32m    806\u001b[0m             \u001b[0mresult\u001b[0m \u001b[0;34m=\u001b[0m \u001b[0marg\u001b[0m\u001b[0;34m.\u001b[0m\u001b[0m_constructor\u001b[0m\u001b[0;34m(\u001b[0m\u001b[0mvalues\u001b[0m\u001b[0;34m,\u001b[0m \u001b[0mindex\u001b[0m\u001b[0;34m=\u001b[0m\u001b[0marg\u001b[0m\u001b[0;34m.\u001b[0m\u001b[0mindex\u001b[0m\u001b[0;34m,\u001b[0m \u001b[0mname\u001b[0m\u001b[0;34m=\u001b[0m\u001b[0marg\u001b[0m\u001b[0;34m.\u001b[0m\u001b[0mname\u001b[0m\u001b[0;34m)\u001b[0m\u001b[0;34m\u001b[0m\u001b[0;34m\u001b[0m\u001b[0m\n\u001b[1;32m    807\u001b[0m     \u001b[0;32melif\u001b[0m \u001b[0misinstance\u001b[0m\u001b[0;34m(\u001b[0m\u001b[0marg\u001b[0m\u001b[0;34m,\u001b[0m \u001b[0;34m(\u001b[0m\u001b[0mABCDataFrame\u001b[0m\u001b[0;34m,\u001b[0m \u001b[0mabc\u001b[0m\u001b[0;34m.\u001b[0m\u001b[0mMutableMapping\u001b[0m\u001b[0;34m)\u001b[0m\u001b[0;34m)\u001b[0m\u001b[0;34m:\u001b[0m\u001b[0;34m\u001b[0m\u001b[0;34m\u001b[0m\u001b[0m\n",
      "\u001b[0;32m~/opt/anaconda3/lib/python3.8/site-packages/pandas/core/tools/datetimes.py\u001b[0m in \u001b[0;36m_convert_listlike_datetimes\u001b[0;34m(arg, format, name, tz, unit, errors, infer_datetime_format, dayfirst, yearfirst, exact)\u001b[0m\n\u001b[1;32m    463\u001b[0m         \u001b[0;32massert\u001b[0m \u001b[0mformat\u001b[0m \u001b[0;32mis\u001b[0m \u001b[0;32mNone\u001b[0m \u001b[0;32mor\u001b[0m \u001b[0minfer_datetime_format\u001b[0m\u001b[0;34m\u001b[0m\u001b[0;34m\u001b[0m\u001b[0m\n\u001b[1;32m    464\u001b[0m         \u001b[0mutc\u001b[0m \u001b[0;34m=\u001b[0m \u001b[0mtz\u001b[0m \u001b[0;34m==\u001b[0m \u001b[0;34m\"utc\"\u001b[0m\u001b[0;34m\u001b[0m\u001b[0;34m\u001b[0m\u001b[0m\n\u001b[0;32m--> 465\u001b[0;31m         result, tz_parsed = objects_to_datetime64ns(\n\u001b[0m\u001b[1;32m    466\u001b[0m             \u001b[0marg\u001b[0m\u001b[0;34m,\u001b[0m\u001b[0;34m\u001b[0m\u001b[0;34m\u001b[0m\u001b[0m\n\u001b[1;32m    467\u001b[0m             \u001b[0mdayfirst\u001b[0m\u001b[0;34m=\u001b[0m\u001b[0mdayfirst\u001b[0m\u001b[0;34m,\u001b[0m\u001b[0;34m\u001b[0m\u001b[0;34m\u001b[0m\u001b[0m\n",
      "\u001b[0;32m~/opt/anaconda3/lib/python3.8/site-packages/pandas/core/arrays/datetimes.py\u001b[0m in \u001b[0;36mobjects_to_datetime64ns\u001b[0;34m(data, dayfirst, yearfirst, utc, errors, require_iso8601, allow_object)\u001b[0m\n\u001b[1;32m   2088\u001b[0m             \u001b[0;32mreturn\u001b[0m \u001b[0mvalues\u001b[0m\u001b[0;34m.\u001b[0m\u001b[0mview\u001b[0m\u001b[0;34m(\u001b[0m\u001b[0;34m\"i8\"\u001b[0m\u001b[0;34m)\u001b[0m\u001b[0;34m,\u001b[0m \u001b[0mtz_parsed\u001b[0m\u001b[0;34m\u001b[0m\u001b[0;34m\u001b[0m\u001b[0m\n\u001b[1;32m   2089\u001b[0m         \u001b[0;32mexcept\u001b[0m \u001b[0;34m(\u001b[0m\u001b[0mValueError\u001b[0m\u001b[0;34m,\u001b[0m \u001b[0mTypeError\u001b[0m\u001b[0;34m)\u001b[0m\u001b[0;34m:\u001b[0m\u001b[0;34m\u001b[0m\u001b[0;34m\u001b[0m\u001b[0m\n\u001b[0;32m-> 2090\u001b[0;31m             \u001b[0;32mraise\u001b[0m \u001b[0me\u001b[0m\u001b[0;34m\u001b[0m\u001b[0;34m\u001b[0m\u001b[0m\n\u001b[0m\u001b[1;32m   2091\u001b[0m \u001b[0;34m\u001b[0m\u001b[0m\n\u001b[1;32m   2092\u001b[0m     \u001b[0;32mif\u001b[0m \u001b[0mtz_parsed\u001b[0m \u001b[0;32mis\u001b[0m \u001b[0;32mnot\u001b[0m \u001b[0;32mNone\u001b[0m\u001b[0;34m:\u001b[0m\u001b[0;34m\u001b[0m\u001b[0;34m\u001b[0m\u001b[0m\n",
      "\u001b[0;32m~/opt/anaconda3/lib/python3.8/site-packages/pandas/core/arrays/datetimes.py\u001b[0m in \u001b[0;36mobjects_to_datetime64ns\u001b[0;34m(data, dayfirst, yearfirst, utc, errors, require_iso8601, allow_object)\u001b[0m\n\u001b[1;32m   2073\u001b[0m \u001b[0;34m\u001b[0m\u001b[0m\n\u001b[1;32m   2074\u001b[0m     \u001b[0;32mtry\u001b[0m\u001b[0;34m:\u001b[0m\u001b[0;34m\u001b[0m\u001b[0;34m\u001b[0m\u001b[0m\n\u001b[0;32m-> 2075\u001b[0;31m         result, tz_parsed = tslib.array_to_datetime(\n\u001b[0m\u001b[1;32m   2076\u001b[0m             \u001b[0mdata\u001b[0m\u001b[0;34m,\u001b[0m\u001b[0;34m\u001b[0m\u001b[0;34m\u001b[0m\u001b[0m\n\u001b[1;32m   2077\u001b[0m             \u001b[0merrors\u001b[0m\u001b[0;34m=\u001b[0m\u001b[0merrors\u001b[0m\u001b[0;34m,\u001b[0m\u001b[0;34m\u001b[0m\u001b[0;34m\u001b[0m\u001b[0m\n",
      "\u001b[0;32m~/opt/anaconda3/lib/python3.8/site-packages/pandas-1.3.3-py3.8-macosx-10.9-x86_64.egg/pandas/_libs/tslib.pyx\u001b[0m in \u001b[0;36mpandas._libs.tslib.array_to_datetime\u001b[0;34m()\u001b[0m\n",
      "\u001b[0;32m~/opt/anaconda3/lib/python3.8/site-packages/pandas-1.3.3-py3.8-macosx-10.9-x86_64.egg/pandas/_libs/tslib.pyx\u001b[0m in \u001b[0;36mpandas._libs.tslib.array_to_datetime\u001b[0;34m()\u001b[0m\n",
      "\u001b[0;31mValueError\u001b[0m: time data test_2021-03-01 02:30:02.237420 doesn't match format specified"
     ]
    }
   ],
   "source": [
    "data_final.date=pd.to_datetime(data_final['date'],format='%Y-%m-%d %H:%M:%S.%f')\n",
    "data_final[\"annee\"] = data_final[\"date\"].map(lambda d: d.year) \n",
    "data_final[\"mois\"]= data_final[\"date\"].map(lambda d: d.month_name()) \n",
    "data_final[\"jour_sem\"] = data_final[\"date\"].map(lambda d: d.day_name()) \n",
    "data_final[\"weekend\"] = data_final[\"jour_sem\"].isin(WEEKEND)"
   ]
  },
  {
   "attachments": {},
   "cell_type": "markdown",
   "id": "8397af21",
   "metadata": {},
   "source": [
    "## On peut maintenant avoir la première et la dernière date d’achat."
   ]
  },
  {
   "cell_type": "code",
   "execution_count": null,
   "id": "4b6b6283",
   "metadata": {},
   "outputs": [],
   "source": [
    "print(\"Première date d'achat: \", data_final.date.min())"
   ]
  },
  {
   "cell_type": "code",
   "execution_count": null,
   "id": "5d237497",
   "metadata": {},
   "outputs": [],
   "source": [
    "print(\"Dernière date d'achat: \", data_final.date.max())"
   ]
  },
  {
   "attachments": {},
   "cell_type": "markdown",
   "id": "0a7982dc",
   "metadata": {},
   "source": [
    "## Comme autres pistes de nettoyage, on peut penser à regrouper les clients par tranches d’âge, ou aussi les dates par saisons etc."
   ]
  },
  {
   "attachments": {},
   "cell_type": "markdown",
   "id": "ddd1738f",
   "metadata": {},
   "source": [
    "# ETAPE 2 : Analyse des données"
   ]
  },
  {
   "cell_type": "markdown",
   "id": "013ed196",
   "metadata": {},
   "source": [
    "## Regroupons les achats de chaque client pour connaitre leurs dépenses sur une année"
   ]
  },
  {
   "cell_type": "code",
   "execution_count": null,
   "id": "1679bee5",
   "metadata": {},
   "outputs": [],
   "source": [
    "client_price=data_final.groupby('client_id')['price'].sum().sort_values(ascending=False).re\n",
    "client_price.columns=[\"client_id\",\"total_achat\"]\n",
    "client_price.head(15)"
   ]
  },
  {
   "attachments": {},
   "cell_type": "markdown",
   "id": "fe75be61",
   "metadata": {},
   "source": [
    "## Regardons la concentration des achats, c'est à dire si les achats sont répartis de manière égalitaire entre les clients ou pas. Pour cela utilisons la courbe de Lorenz pour représenter tout cela et la statistique de Gini pour conclure."
   ]
  },
  {
   "cell_type": "code",
   "execution_count": null,
   "id": "6d354deb",
   "metadata": {},
   "outputs": [],
   "source": [
    "def lorenz_curve(X,legende): ",
    "\n",
    "    X_lorenz = np.cumsum(np.sort(X)) / X.sum() ",
    "\n",
    "    X_lorenz = np.append([0],X_lorenz) ",
    "\n",
    "    fig, ax = plt.subplots(figsize=[6,6]) \n",
    "    ax.scatter(np.arange(X_lorenz.size)/(X_lorenz.size-1), X_lorenz, marker='x', color='darkgreen', s=5) ## line plot of equality \n",
    "    ax.plot([0,1], [0,1], color='k') \n",
    "    ax.legend([legende])"
   ]
  },
  {
   "cell_type": "code",
   "execution_count": null,
   "id": "afc64b8a",
   "metadata": {},
   "outputs": [],
   "source": [
    "def gini(dep): \n",
    "    n = len(dep)\n",
    "    lorenz = np.cumsum(np.sort(dep)) / dep.sum()\n",
    "    lorenz = np.append([0],lorenz)\n",
    "    AUC = (lorenz.sum() -(lorenz[-1]/2) -(lorenz[0]/2))/len(lorenz) \n",
    "    S = 0.5 - AUC\n",
    "    gini = 2*S\n",
    "    return gini"
   ]
  },
  {
   "cell_type": "code",
   "execution_count": null,
   "id": "38ebedf7",
   "metadata": {},
   "outputs": [],
   "source": [
    "lorenz_curve(client_price.total_achat,\"repartition totale\")"
   ]
  },
  {
   "cell_type": "code",
   "execution_count": null,
   "id": "76e01028",
   "metadata": {},
   "outputs": [],
   "source": [
    "print(\"gini of client_price.price:\",gini(client_price.total_achat))"
   ]
  },
  {
   "cell_type": "markdown",
   "id": "3a6b0d23",
   "metadata": {},
   "source": [
    "## On peut voir que 20% des clients détenant les paniers les plus conséquents représentent plus de 50 % des achats réalisés. Nous avons 230 clients détenant un grand nombre d'achats dont un top 4 vraiment énorme."
   ]
  },
  {
   "cell_type": "markdown",
   "id": "f166b6e2",
   "metadata": {},
   "source": [
    "## On peut faire une analyse univariée pour la variable « Catégorie ».\n",
    "## On remarque alors que le produit 0 est le plus acheté. \n",
    "## On peut ensuite analyser chaque catégorie en utilisant des indicateurs statistiques tels que la médiane, la moyenne, le coefficient de variation.\n"
   ]
  },
  {
   "cell_type": "markdown",
   "id": "d1f4e47c",
   "metadata": {},
   "source": [
    "## Puis travailler sur les autres variables (sexe, âge). "
   ]
  },
  {
   "attachments": {},
   "cell_type": "markdown",
   "id": "1ecd4778",
   "metadata": {},
   "source": [
    "## Comme analyse bivariée, on peut regarder l’évolution du chiffre d’affaires dans le temps. Pour être encore plus précis, on peut par exemple étudier l’influence de la variable âge sur le chiffre d’affaires."
   ]
  },
  {
   "attachments": {},
   "cell_type": "markdown",
   "id": "5fa1100a",
   "metadata": {},
   "source": [
    "# ETAPE 3 : réaliser des études de corrélation"
   ]
  },
  {
   "cell_type": "markdown",
   "id": "b8e52c34",
   "metadata": {},
   "source": [
    "## Pour les études de corrélation, nous allons définir des programmes que nous allons utiliser tout au long de ses analyses. "
   ]
  },
  {
   "cell_type": "code",
   "execution_count": null,
   "id": "53727e06",
   "metadata": {},
   "outputs": [],
   "source": [
    "def contengency(dataframe, varia_1, varia_2):\n",
    "    tab = pd.crosstab(dataframe[varia_1], data_final[varia_2]) \n",
    "    table = sm.stats.Table(tab) \n",
    "    print(table.test_nominal_association())"
   ]
  },
  {
   "cell_type": "code",
   "execution_count": null,
   "id": "ea7ed4c1",
   "metadata": {},
   "outputs": [],
   "source": [
    "def eta_squared(x,y):\n",
    "    moyenne_y = y.mean() ## moyenne de la variable quantitative \n",
    "    classes = []\n",
    "    for classe in x.unique():\n",
    "    yi_classe = y[x==classe] \n",
    "    classes.append({'ni': len(yi_classe),\n",
    "    'moyenne_classe': yi_classe.mean()}) \n",
    "    SCT = sum([(yj-moyenne_y)**2 for yj in y])\n",
    "    SCE = sum([c['ni']*(c['moyenne_classe']-moyenne_y)**2 for c in classes]) \n",
    "    return SCE/SCT\n"
   ]
  },
  {
   "cell_type": "code",
   "execution_count": null,
   "id": "b42ed8fd",
   "metadata": {},
   "outputs": [],
   "source": [
    "contengency(data_final,\"sex\",\"categ\")"
   ]
  },
  {
   "attachments": {},
   "cell_type": "markdown",
   "id": "cfe1f535",
   "metadata": {},
   "source": [
    "## Nous pouvons conclure que de façon générale, il y a corrélation entre le sexe et les catégories car nous avons une p-value de 0.0 avec une statistique très élevée. Nous rejetons donc l'hypothèse d'indépendance entre ces deux variables."
   ]
  },
  {
   "cell_type": "code",
   "execution_count": null,
   "id": "e4478357",
   "metadata": {},
   "outputs": [],
   "source": [
    "X = \"class_age\" # qualitative"
   ]
  },
  {
   "cell_type": "code",
   "execution_count": null,
   "id": "9b1d9d4c",
   "metadata": {},
   "outputs": [],
   "source": [
    "Y = \"frequence_nb_d'achats_mois\" # quantitative"
   ]
  },
  {
   "cell_type": "code",
   "execution_count": null,
   "id": "78533ed9",
   "metadata": {},
   "outputs": [],
   "source": [
    "sous_echantillon = test eta_squared(sous_echantillon[X],sous_echantillon[Y])"
   ]
  },
  {
   "attachments": {},
   "cell_type": "markdown",
   "id": "11875f26",
   "metadata": {},
   "source": [
    "## On peut donc conclure à une corrélation entre l’âge et la fréquence d’achat."
   ]
  },
  {
   "cell_type": "code",
   "execution_count": null,
   "id": "1f62e5d3",
   "metadata": {},
   "outputs": [],
   "source": [
    "X = \"class_age\" # qualitative\n",
    "Y = \"total_achat\" # quantitative\n",
    "sous_echantillon = age_categ[age_categ[\"total_achat\"] < 5000]\n",
    "eta_squared(sous_echantillon[X],sous_echantillon[Y])"
   ]
  },
  {
   "attachments": {},
   "cell_type": "markdown",
   "id": "85e5f1ea",
   "metadata": {},
   "source": [
    "## Nous constatons une indépendance entre l’âge d'un côté et le montant total des achats."
   ]
  }
 ],
 "metadata": {
  "kernelspec": {
   "display_name": "Python 3",
   "language": "python",
   "name": "python3"
  },
  "language_info": {
   "codemirror_mode": {
    "name": "ipython",
    "version": 3
   },
   "file_extension": ".py",
   "mimetype": "text/x-python",
   "name": "python",
   "nbconvert_exporter": "python",
   "pygments_lexer": "ipython3",
   "version": "3.8.8"
  }
 },
 "nbformat": 4,
 "nbformat_minor": 5
}
